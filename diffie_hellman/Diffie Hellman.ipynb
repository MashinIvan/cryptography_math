{
 "cells": [
  {
   "cell_type": "markdown",
   "metadata": {},
   "source": [
    "# Diffie-Hellman\n",
    "Public key exchange protocol. Allows for securely establishing shared key over insecure public network for later use in symmetric cipher communication."
   ]
  },
  {
   "cell_type": "code",
   "execution_count": 4,
   "metadata": {},
   "outputs": [],
   "source": [
    "import random\n",
    "import math\n",
    "import typing\n",
    "\n",
    "from generate_prime import generate_prime"
   ]
  },
  {
   "cell_type": "markdown",
   "metadata": {},
   "source": [
    "### Definisions\n",
    "* **private key** - a key that is kept securely locally, must not be shared\n",
    "\n",
    "* **public key** - a key that can be shared freely"
   ]
  },
  {
   "cell_type": "markdown",
   "metadata": {},
   "source": [
    "## Step 1\n",
    "\n",
    "#### Public scope (publicly awailable values)\n",
    "these are some values that and awailable to any non-trusted party\n",
    "* **g** - prime base (usually small positive integer $ \\approx 1* 10^1 $ )\n",
    "* **p** - prime modulus (should be large $ > 1*10^{600} $ for better security or 2048 bits)\n",
    "\n",
    "#### Alice\n",
    "* a - generated **private key** (should be large $ \\approx 256 bits $ for better security)\n",
    "* $ A = g^a \\bmod p $ - computed **public key**\n",
    "\n",
    "#### Bob\n",
    "* b - generated **private key** (should be large $ \\approx 256 bits $ for better security)\n",
    "* $ B = g^b \\bmod p $ - computed **public key**"
   ]
  },
  {
   "cell_type": "code",
   "execution_count": 5,
   "metadata": {},
   "outputs": [],
   "source": [
    "g = 2\n",
    "p = generate_prime(1024)"
   ]
  },
  {
   "cell_type": "code",
   "execution_count": 17,
   "metadata": {},
   "outputs": [],
   "source": [
    "def generate_n_bit_random(n_bits: int) -> int:\n",
    "        number_order = math.ceil(math.log(2**n_bits, 10))\n",
    "        number = random.randint(10**(number_order - 1), 10**number_order)\n",
    "        if number % 2 == 0:\n",
    "            number +=1\n",
    "        return number"
   ]
  },
  {
   "cell_type": "code",
   "execution_count": 22,
   "metadata": {},
   "outputs": [],
   "source": [
    "def generate_public_key(private_key: int, generator: int, prime_number: int) -> int:\n",
    "    return pow(generator, private_key, prime_number)"
   ]
  },
  {
   "cell_type": "code",
   "execution_count": 23,
   "metadata": {},
   "outputs": [],
   "source": [
    "a = generate_n_bit_random(256)\n",
    "A = generate_public_key(a, g, p)"
   ]
  },
  {
   "cell_type": "code",
   "execution_count": 24,
   "metadata": {},
   "outputs": [],
   "source": [
    "b = generate_n_bit_random(256)\n",
    "B = generate_public_key(b, g, p)"
   ]
  },
  {
   "cell_type": "markdown",
   "metadata": {},
   "source": [
    "## Step 2\n",
    "\n",
    "Alice and Bob share their public keys through insecure network\n",
    "\n",
    "### Alice\n",
    "* compute $ B^a \\bmod p = g^{b^a} \\bmod p = g^{ab} \\bmod p $\n",
    "\n",
    "### Bob\n",
    "* compute $ A^b \\bmod p = g^{a^b} \\bmod p = g^{ab} \\bmod p $\n",
    "\n",
    "Thus **shared key** = $ g^{ab} \\bmod p $\n",
    "\n",
    "## Step 3\n",
    "\n",
    "Alice and Bob share their established key, if it matches, handshake is successfull"
   ]
  },
  {
   "cell_type": "code",
   "execution_count": 26,
   "metadata": {},
   "outputs": [],
   "source": [
    "shared_key_Alice = pow(B, a, p)"
   ]
  },
  {
   "cell_type": "code",
   "execution_count": 25,
   "metadata": {},
   "outputs": [],
   "source": [
    "shared_key_Bob = pow(A, b, p)"
   ]
  },
  {
   "cell_type": "code",
   "execution_count": 27,
   "metadata": {},
   "outputs": [
    {
     "output_type": "execute_result",
     "data": {
      "text/plain": [
       "True"
      ]
     },
     "metadata": {},
     "execution_count": 27
    }
   ],
   "source": [
    "shared_key_Alice == shared_key_Bob"
   ]
  },
  {
   "cell_type": "code",
   "execution_count": 28,
   "metadata": {},
   "outputs": [
    {
     "output_type": "execute_result",
     "data": {
      "text/plain": [
       "43967036275965389787163338786108662246766872267688926185932995157733026272170060805099982416416048389916733775375389320763005724146667870344518839751089414657169662564667217724821297001931843936908058972458165215782058042365615053576642230805568290834692741508611717029718886532289706797323627016330693323459"
      ]
     },
     "metadata": {},
     "execution_count": 28
    }
   ],
   "source": [
    "shared_key = shared_key_Alice\n",
    "shared_key"
   ]
  }
 ],
 "metadata": {
  "kernelspec": {
   "name": "python379jvsc74a57bd0c2d3075f01f6088dd86fa2e8bdc910fd966dd262768ad903ec584c98b4990310",
   "display_name": "Python 3.7.9 64-bit"
  },
  "language_info": {
   "codemirror_mode": {
    "name": "ipython",
    "version": 3
   },
   "file_extension": ".py",
   "mimetype": "text/x-python",
   "name": "python",
   "nbconvert_exporter": "python",
   "pygments_lexer": "ipython3",
   "version": "3.7.9"
  }
 },
 "nbformat": 4,
 "nbformat_minor": 4
}